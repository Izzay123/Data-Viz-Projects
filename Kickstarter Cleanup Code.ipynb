{
 "cells": [
  {
   "attachments": {},
   "cell_type": "markdown",
   "metadata": {},
   "source": [
    "Pulled Dataset from Kaggle.com <br>\n",
    "Microsoft Excel - Opened .csv. Looked through columns to verify data types, presence of empty/incomplete data, dropped some irrelevant columns <br>\n",
    "Original - 20633x61 <br>\n",
    "After Excel - 20633x56 <br>\n",
    "Saved as WORKING .csv + .xls"
   ]
  },
  {
   "cell_type": "code",
   "execution_count": 17,
   "metadata": {},
   "outputs": [
    {
     "name": "stderr",
     "output_type": "stream",
     "text": [
      "C:\\Users\\isits\\AppData\\Local\\Temp\\ipykernel_16092\\233875786.py:7: DtypeWarning: Columns (30,31,32,33) have mixed types. Specify dtype option on import or set low_memory=False.\n",
      "  df = pd.read_csv('./kickstarter_data_with_featuresWorking.csv')\n"
     ]
    },
    {
     "data": {
      "text/plain": [
       "Index(['index', 'Unnamed: 0', 'id', 'photo', 'name', 'blurb', 'goal',\n",
       "       'pledged', 'state', 'slug', 'disable_communication', 'country',\n",
       "       'currency', 'currency_symbol', 'currency_trailing_code', 'deadline',\n",
       "       'state_changed_at', 'created_at', 'launched_at', 'staff_pick',\n",
       "       'backers_count', 'static_usd_rate', 'usd_pledged', 'creator',\n",
       "       'location', 'category', 'profile', 'spotlight', 'urls', 'source_url',\n",
       "       'friends', 'is_starred', 'is_backing', 'permissions', 'name_len',\n",
       "       'name_len_clean', 'blurb_len', 'blurb_len_clean', 'deadline_weekday',\n",
       "       'state_changed_at_weekday', 'created_at_weekday', 'launched_at_weekday',\n",
       "       'deadline_month', 'deadline_day', 'deadline_yr', 'deadline_hr',\n",
       "       'state_changed_at_month', 'state_changed_at_day', 'state_changed_at_yr',\n",
       "       'state_changed_at_hr', 'created_at_month', 'created_at_day',\n",
       "       'created_at_yr', 'created_at_hr', 'launched_at_month',\n",
       "       'launched_at_day', 'launched_at_yr', 'launched_at_hr',\n",
       "       'create_to_launch', 'launch_to_deadline', 'launch_to_state_change'],\n",
       "      dtype='object')"
      ]
     },
     "execution_count": 17,
     "metadata": {},
     "output_type": "execute_result"
    }
   ],
   "source": [
    "#Import working file so I don't ruin the original and libraries\n",
    "import re\n",
    "import copy\n",
    "import numpy as np\n",
    "import pandas as pd\n",
    "\n",
    "df = pd.read_csv('./kickstarter_data_with_featuresWorking.csv')\n",
    "#Check column naming out\n",
    "df.columns.unique()"
   ]
  },
  {
   "cell_type": "code",
   "execution_count": 18,
   "metadata": {},
   "outputs": [],
   "source": [
    "# Read columns and pick important with df.columns()\n",
    "final_columns = ['name', 'goal', 'pledged', 'state','source_url', 'country', 'currency', 'staff_pick','backers_count','usd_pledged','category', 'spotlight','deadline_month','deadline_yr','created_at_month','created_at_yr','launched_at_month','launched_at_yr','create_to_launch','launch_to_deadline']\n",
    "final= df[final_columns]\n",
    "#final count is 20632x19"
   ]
  },
  {
   "cell_type": "code",
   "execution_count": 19,
   "metadata": {},
   "outputs": [
    {
     "name": "stdout",
     "output_type": "stream",
     "text": [
      "name                  False\n",
      "goal                  False\n",
      "pledged               False\n",
      "state                 False\n",
      "source_url            False\n",
      "country               False\n",
      "currency              False\n",
      "staff_pick            False\n",
      "backers_count         False\n",
      "usd_pledged           False\n",
      "category               True\n",
      "spotlight             False\n",
      "deadline_month        False\n",
      "deadline_yr           False\n",
      "created_at_month      False\n",
      "created_at_yr         False\n",
      "launched_at_month     False\n",
      "launched_at_yr        False\n",
      "create_to_launch      False\n",
      "launch_to_deadline    False\n",
      "dtype: bool\n",
      "1889\n"
     ]
    }
   ],
   "source": [
    "# #Checking for Null values\n",
    "print(final.isnull().any())         #By Column\n",
    "print(final.isnull().sum().sum())   #By total count"
   ]
  },
  {
   "cell_type": "code",
   "execution_count": 20,
   "metadata": {},
   "outputs": [
    {
     "data": {
      "text/plain": [
       "array(['Academic', 'Places', nan, 'Blues', 'Restaurants', 'Webseries',\n",
       "       'Thrillers', 'Shorts', 'Web', 'Apps', 'Gadgets', 'Hardware',\n",
       "       'Festivals', 'Plays', 'Musical', 'Flight', 'Spaces', 'Immersive',\n",
       "       'Experimental', 'Comedy', 'Wearables', 'Sound', 'Software',\n",
       "       'Robots', 'Makerspaces'], dtype=object)"
      ]
     },
     "execution_count": 20,
     "metadata": {},
     "output_type": "execute_result"
    }
   ],
   "source": [
    "#Checking Category column for types and naming\n",
    "final.category.unique()"
   ]
  },
  {
   "cell_type": "code",
   "execution_count": 21,
   "metadata": {},
   "outputs": [
    {
     "data": {
      "text/plain": [
       "array(['failed', 'canceled', 'successful', 'live', 'suspended'],\n",
       "      dtype=object)"
      ]
     },
     "execution_count": 21,
     "metadata": {},
     "output_type": "execute_result"
    }
   ],
   "source": [
    "#Check state for types to drop\n",
    "final.state.unique()"
   ]
  },
  {
   "cell_type": "code",
   "execution_count": 22,
   "metadata": {},
   "outputs": [
    {
     "data": {
      "text/plain": [
       "array(['failed', 'successful'], dtype=object)"
      ]
     },
     "execution_count": 22,
     "metadata": {},
     "output_type": "execute_result"
    }
   ],
   "source": [
    "\n",
    "# Drop row if state is live as they are not a finished campaign. Cancelled, because we can't really quantify why they did it. Suspended because they done messed up A-A-Ron\n",
    "final = final[df.state != 'live']\n",
    "final = final[final.state != 'canceled']\n",
    "final = final[final.state != 'suspended']\n",
    "#Checking state column after dropping live and cancelled\n",
    "final.state.unique()"
   ]
  },
  {
   "cell_type": "code",
   "execution_count": 23,
   "metadata": {},
   "outputs": [],
   "source": [
    "#Make a deep copy before adjusting any values\n",
    "final2 = final.copy(deep=True)"
   ]
  },
  {
   "cell_type": "code",
   "execution_count": 24,
   "metadata": {},
   "outputs": [
    {
     "name": "stdout",
     "output_type": "stream",
     "text": [
      "17 days 14:51:39.000000000\n",
      "36 days 20:47:24.000000000\n"
     ]
    }
   ],
   "source": [
    "#Check out create + lauch for adjustments\n",
    "print(final2.create_to_launch[0])\n",
    "print(final2.launch_to_deadline[0])"
   ]
  },
  {
   "cell_type": "code",
   "execution_count": 25,
   "metadata": {},
   "outputs": [
    {
     "name": "stdout",
     "output_type": "stream",
     "text": [
      "17\n",
      "36\n"
     ]
    }
   ],
   "source": [
    "# Drop trailing zeroes in created and launched time columns using casting and map/lambda\n",
    "final2.create_to_launch = final2.create_to_launch.astype(str).map(lambda x: x[0:2])\n",
    "final2.launch_to_deadline = final2.launch_to_deadline.astype(str).map(lambda x: x[0:2])\n",
    "print(final2.create_to_launch[0])\n",
    "print(final2.launch_to_deadline[0])"
   ]
  },
  {
   "cell_type": "code",
   "execution_count": 26,
   "metadata": {},
   "outputs": [
    {
     "data": {
      "text/plain": [
       "array(['Academic', 'Places',\n",
       "       'https://www.kickstarter.com/discover/categories/music/electronic%20music?ref=category_modal&sort=magic',\n",
       "       'https://www.kickstarter.com/discover/categories/music/country%20&%20folk?ref=category_modal&sort=magic',\n",
       "       'https://www.kickstarter.com/discover/categories/music/classical%20music?ref=category_modal&sort=magic',\n",
       "       'Blues',\n",
       "       'https://www.kickstarter.com/discover/categories/games/video%20games?ref=category_modal&sort=magic',\n",
       "       'Webseries', 'Thrillers', 'Shorts',\n",
       "       'https://www.kickstarter.com/discover/categories/film%20&%20video/narrative%20film?ref=category_modal&sort=magic',\n",
       "       'Web', 'Apps', 'Gadgets', 'Hardware', 'Festivals', 'Plays',\n",
       "       'Musical', 'Flight',\n",
       "       'https://www.kickstarter.com/discover/categories/technology/diy%20electronics?ref=category_modal&sort=magic',\n",
       "       'Spaces', 'Immersive', 'Experimental', 'Comedy', 'Wearables',\n",
       "       'https://www.kickstarter.com/discover/categories/technology/space%20exploration?ref=category_modal&sort=magic',\n",
       "       'Sound', 'Software', 'Robots', 'Makerspaces',\n",
       "       'https://www.kickstarter.com/discover/categories/technology/fabrication%20tools?ref=category_modal&sort=magic',\n",
       "       'https://www.kickstarter.com/discover/categories/technology/camera%20equipment?ref=category_modal&sort=magic'],\n",
       "      dtype=object)"
      ]
     },
     "execution_count": 26,
     "metadata": {},
     "output_type": "execute_result"
    }
   ],
   "source": [
    "#Need to replace all NAN values with category info from source_url column\n",
    "#Replace all instances of nan with a corresponding row from other column called\n",
    "final2.category = final2.category.combine_first(final2.source_url).astype(str)\n",
    "final2.category.unique()"
   ]
  },
  {
   "cell_type": "code",
   "execution_count": 27,
   "metadata": {},
   "outputs": [
    {
     "data": {
      "text/plain": [
       "array(['Academic', 'Places', 'Electronic Music', 'Country & Folk Music',\n",
       "       'Classical Music', 'Blues', 'Video Games', 'Webseries',\n",
       "       'Thrillers', 'Shorts', 'Film & Video', 'Web', 'Apps', 'Gadgets',\n",
       "       'Hardware', 'Festivals', 'Plays', 'Musical', 'Flight',\n",
       "       'DIY Electronics', 'Spaces', 'Immersive', 'Experimental', 'Comedy',\n",
       "       'Wearables', 'Space Exploration', 'Sound', 'Software', 'Robots',\n",
       "       'Makerspaces', 'Fabrication Tools', 'Camera Equipment'],\n",
       "      dtype=object)"
      ]
     },
     "execution_count": 27,
     "metadata": {},
     "output_type": "execute_result"
    }
   ],
   "source": [
    "#Replace all categories source URL with new categories, convert to raw strings and escape ? as %20 and ? are showing up reserved\n",
    "final2.category = final2.category.replace(r'https://www.kickstarter.com/discover/categories/music/electronic%20music\\?ref=category_modal&sort=magic', 'Electronic Music', regex=True)\n",
    "final2.category = final2.category.replace(r'https://www.kickstarter.com/discover/categories/music/country%20&%20folk\\?ref=category_modal&sort=magic', 'Country & Folk Music', regex=True)\n",
    "final2.category = final2.category.replace(r'https://www.kickstarter.com/discover/categories/music/classical%20music\\?ref=category_modal&sort=magic', 'Classical Music', regex=True)\n",
    "final2.category = final2.category.replace(r'https://www.kickstarter.com/discover/categories/games/video%20games\\?ref=category_modal&sort=magic', 'Video Games', regex=True)\n",
    "final2.category = final2.category.replace(r'https://www.kickstarter.com/discover/categories/film%20&%20video/narrative%20film\\?ref=category_modal&sort=magic', 'Film & Video', regex=True)\n",
    "final2.category = final2.category.replace(r'https://www.kickstarter.com/discover/categories/technology/diy%20electronics\\?ref=category_modal&sort=magic', 'DIY Electronics', regex=True)\n",
    "final2.category = final2.category.replace(r'https://www.kickstarter.com/discover/categories/technology/space%20exploration\\?ref=category_modal&sort=magic', 'Space Exploration', regex=True)\n",
    "final2.category = final2.category.replace(r'https://www.kickstarter.com/discover/categories/technology/fabrication%20tools\\?ref=category_modal&sort=magic', 'Fabrication Tools', regex=True)\n",
    "final2.category = final2.category.replace(r'https://www.kickstarter.com/discover/categories/technology/camera%20equipment\\?ref=category_modal&sort=magic', 'Camera Equipment', regex=True)\n",
    "final2.category.unique()"
   ]
  },
  {
   "cell_type": "code",
   "execution_count": 28,
   "metadata": {},
   "outputs": [
    {
     "name": "stdout",
     "output_type": "stream",
     "text": [
      "name                  False\n",
      "goal                  False\n",
      "pledged               False\n",
      "state                 False\n",
      "source_url            False\n",
      "country               False\n",
      "currency              False\n",
      "staff_pick            False\n",
      "backers_count         False\n",
      "usd_pledged           False\n",
      "category              False\n",
      "spotlight             False\n",
      "deadline_month        False\n",
      "deadline_yr           False\n",
      "created_at_month      False\n",
      "created_at_yr         False\n",
      "launched_at_month     False\n",
      "launched_at_yr        False\n",
      "create_to_launch      False\n",
      "launch_to_deadline    False\n",
      "dtype: bool\n",
      "0\n"
     ]
    }
   ],
   "source": [
    "#Checking for Null values due to paranoia\n",
    "print(final2.isnull().any())         #By Column\n",
    "print(final2.isnull().sum().sum())   #By total count"
   ]
  },
  {
   "cell_type": "code",
   "execution_count": 29,
   "metadata": {},
   "outputs": [],
   "source": [
    "# Drop the source_url after taking info we need\n",
    "final_columns2 = ['name', 'goal', 'pledged', 'state', 'country', 'currency', 'staff_pick','backers_count','usd_pledged','category', 'spotlight','deadline_month','deadline_yr','created_at_month','created_at_yr','launched_at_month','launched_at_yr','create_to_launch','launch_to_deadline']\n",
    "final2 = final2[final_columns2]"
   ]
  },
  {
   "cell_type": "code",
   "execution_count": 30,
   "metadata": {},
   "outputs": [
    {
     "data": {
      "text/plain": [
       "Index(['name', 'goal', 'pledged', 'state', 'country', 'currency', 'staff_pick',\n",
       "       'backers_count', 'usd_pledged', 'category', 'spotlight',\n",
       "       'deadline_month', 'deadline_yr', 'created_at_month', 'created_at_yr',\n",
       "       'launched_at_month', 'launched_at_yr', 'create_to_launch',\n",
       "       'launch_to_deadline'],\n",
       "      dtype='object')"
      ]
     },
     "execution_count": 30,
     "metadata": {},
     "output_type": "execute_result"
    }
   ],
   "source": [
    "#Check for accurate column drop\n",
    "final2.columns.unique()"
   ]
  },
  {
   "cell_type": "code",
   "execution_count": 31,
   "metadata": {},
   "outputs": [
    {
     "data": {
      "text/plain": [
       "array(['Academic', 'Places', 'Electronic Music', 'Country & Folk Music',\n",
       "       'Classical Music', 'Blues', 'Video Games', 'Webseries',\n",
       "       'Thrillers', 'Shorts', 'Film & Video', 'Web', 'Apps', 'Gadgets',\n",
       "       'Hardware', 'Festivals', 'Plays', 'Musical', 'Flight',\n",
       "       'DIY Electronics', 'Spaces', 'Immersive', 'Experimental', 'Comedy',\n",
       "       'Wearables', 'Space Exploration', 'Sound', 'Software', 'Robots',\n",
       "       'Makerspaces', 'Fabrication Tools', 'Camera Equipment'],\n",
       "      dtype=object)"
      ]
     },
     "execution_count": 31,
     "metadata": {},
     "output_type": "execute_result"
    }
   ],
   "source": [
    "#Check for category fixed?\n",
    "final2.category.unique()"
   ]
  },
  {
   "cell_type": "code",
   "execution_count": null,
   "metadata": {},
   "outputs": [],
   "source": [
    "final2"
   ]
  },
  {
   "cell_type": "code",
   "execution_count": null,
   "metadata": {},
   "outputs": [],
   "source": [
    "#CELEBRATE \n",
    "#Export and get plotting\n",
    "final2.to_csv('CleanedKickstarterCapstone1.csv')\n",
    "final2.to_excel('CleanedKickstarterCapstone1.xlsx')"
   ]
  },
  {
   "cell_type": "markdown",
   "metadata": {},
   "source": [
    "After column drop with pandas - 20632x20 <br>\n",
    "After dropping live, cancelled, suspended and ['source_url'] <br>\n",
    "Final to csv/xlsx - 17434x19"
   ]
  }
 ],
 "metadata": {
  "kernelspec": {
   "display_name": "Python 3 (ipykernel)",
   "language": "python",
   "name": "python3"
  },
  "language_info": {
   "codemirror_mode": {
    "name": "ipython",
    "version": 3
   },
   "file_extension": ".py",
   "mimetype": "text/x-python",
   "name": "python",
   "nbconvert_exporter": "python",
   "pygments_lexer": "ipython3",
   "version": "3.11.0"
  },
  "vscode": {
   "interpreter": {
    "hash": "843671938645ddc9d85e091a3f73e338290171f7d82f470c57e994ddcbd0ad92"
   }
  }
 },
 "nbformat": 4,
 "nbformat_minor": 2
}
